{
  "nbformat": 4,
  "nbformat_minor": 0,
  "metadata": {
    "colab": {
      "name": "Test NN.ipynb",
      "provenance": [],
      "collapsed_sections": [],
      "toc_visible": true,
      "history_visible": true,
      "authorship_tag": "ABX9TyOxivsxVtigdfFaQIvdMhEb",
      "include_colab_link": true
    },
    "kernelspec": {
      "display_name": "Python 3",
      "name": "python3"
    }
  },
  "cells": [
    {
      "cell_type": "markdown",
      "metadata": {
        "id": "view-in-github",
        "colab_type": "text"
      },
      "source": [
        "<a href=\"https://colab.research.google.com/github/ppareek/intro-to-data-visualization-Python-live-training/blob/master/IntroductoryNeuralNetworks.ipynb\" target=\"_parent\"><img src=\"https://colab.research.google.com/assets/colab-badge.svg\" alt=\"Open In Colab\"/></a>"
      ]
    },
    {
      "cell_type": "markdown",
      "metadata": {
        "id": "L_wZSsnrflAe"
      },
      "source": [
        "\r\n",
        "#Retrieve Data"
      ]
    },
    {
      "cell_type": "markdown",
      "metadata": {
        "id": "yDQgThSaAa_i"
      },
      "source": [
        "# Predict the output of a continuous value using tf.keras API."
      ]
    },
    {
      "cell_type": "markdown",
      "metadata": {
        "id": "-rbkOgiJAYxH"
      },
      "source": [
        "**Import Dependencies and Load Data**"
      ]
    },
    {
      "cell_type": "code",
      "metadata": {
        "id": "C5pxiMWk0cLs"
      },
      "source": [
        "import pandas as pd\r\n",
        "import numpy as np\r\n",
        "import random\r\n",
        "from datetime import datetime, time\r\n",
        "from scipy.stats import linregress"
      ],
      "execution_count": 109,
      "outputs": []
    },
    {
      "cell_type": "code",
      "metadata": {
        "id": "S16Ka6nC_yZl"
      },
      "source": [
        "df = pd.read_csv('/content/Dataset.csv', index_col='SampleId', parse_dates = ['Sample Date'])"
      ],
      "execution_count": 110,
      "outputs": []
    },
    {
      "cell_type": "markdown",
      "metadata": {
        "id": "VzKEntb-mONz"
      },
      "source": [
        "## Review the code"
      ]
    },
    {
      "cell_type": "code",
      "metadata": {
        "colab": {
          "base_uri": "https://localhost:8080/"
        },
        "id": "JbiSQ8dMmNw0",
        "outputId": "eaa9ecb1-818d-4c04-d02c-1d9c8048ab1c"
      },
      "source": [
        "df[df['Sample Date'] == '-'] = np.NaN\r\n",
        "df[~df['Sample Date'].isna()]['Sample Date'].apply(lambda x: datetime.strptime(str(x), \"%b %d/%y\")).head()\r\n",
        "df[(df['Sample Time'] == '-') | (df['Sample Time'] == 'nan')] = np.NaN\r\n",
        "df[~df['Sample Time'].isna()][\"Sample Time\"].apply(lambda x: datetime.strptime(str(x),'%H:%M:%S'))"
      ],
      "execution_count": 111,
      "outputs": [
        {
          "output_type": "execute_result",
          "data": {
            "text/plain": [
              "SampleId\n",
              "E191601   1900-01-01 21:30:00\n",
              "E191602   1900-01-01 21:30:00\n",
              "E191603   1900-01-01 21:30:00\n",
              "E191604   1900-01-01 21:30:00\n",
              "E191605   1900-01-01 09:30:00\n",
              "                  ...        \n",
              "E196983   1900-01-01 23:30:00\n",
              "E196984   1900-01-01 23:30:00\n",
              "E196985   1900-01-01 23:30:00\n",
              "E196987   1900-01-01 07:30:00\n",
              "E196988   1900-01-01 07:30:00\n",
              "Name: Sample Time, Length: 752, dtype: datetime64[ns]"
            ]
          },
          "metadata": {
            "tags": []
          },
          "execution_count": 111
        }
      ]
    },
    {
      "cell_type": "code",
      "metadata": {
        "id": "5LXUrFNI95Cu"
      },
      "source": [
        "df[\"DateTime\"] = df[\"Sample Date\"] + \" \" + df[\"Sample Time\"]\r\n",
        "df = df.astype({\"DateTime\": 'datetime64[ns]', \"Sample Date\": 'datetime64[ns]'})"
      ],
      "execution_count": 112,
      "outputs": []
    },
    {
      "cell_type": "code",
      "metadata": {
        "colab": {
          "base_uri": "https://localhost:8080/"
        },
        "id": "a4PFZd8r-MBJ",
        "outputId": "87c2b2c4-2ef9-42b9-d1e0-6e8f35a4bccd"
      },
      "source": [
        "df.drop(columns = {\"Sample Time\"}, inplace=True)"
      ],
      "execution_count": 113,
      "outputs": [
        {
          "output_type": "stream",
          "text": [
            "<class 'pandas.core.frame.DataFrame'>\n",
            "Index: 762 entries, E191601 to E196988\n",
            "Data columns (total 54 columns):\n",
            " #   Column            Non-Null Count  Dtype         \n",
            "---  ------            --------------  -----         \n",
            " 0   PlantId           755 non-null    object        \n",
            " 1   Train             217 non-null    object        \n",
            " 2   Sample Date       755 non-null    datetime64[ns]\n",
            " 3   Lab Comments_TLX  285 non-null    object        \n",
            " 4   MASS_BAL          755 non-null    float64       \n",
            " 5   %_BITUMEN         755 non-null    float64       \n",
            " 6   %_WATER           755 non-null    float64       \n",
            " 7   %_SOLIDS          755 non-null    float64       \n",
            " 8   SAMPLE_WT         755 non-null    float64       \n",
            " 9   Technique         755 non-null    object        \n",
            " 10  Lab Comments_CPA  23 non-null     object        \n",
            " 11  DIA_0.04          755 non-null    float64       \n",
            " 12  DIA_0.06          755 non-null    float64       \n",
            " 13  DIA_0.100         755 non-null    float64       \n",
            " 14  DIA_0.130         755 non-null    float64       \n",
            " 15  DIA_0.180         755 non-null    float64       \n",
            " 16  DIA_0.250         755 non-null    float64       \n",
            " 17  DIA_0.350         755 non-null    float64       \n",
            " 18  DIA_0.500         755 non-null    float64       \n",
            " 19  DIA_0.700         755 non-null    float64       \n",
            " 20  DIA_1.000         755 non-null    float64       \n",
            " 21  DIA_1.400         755 non-null    float64       \n",
            " 22  DIA_1.900         755 non-null    float64       \n",
            " 23  DIA_2.800         755 non-null    float64       \n",
            " 24  DIA_3.900         755 non-null    float64       \n",
            " 25  DIA_5.500         755 non-null    float64       \n",
            " 26  DIA_7.800         755 non-null    float64       \n",
            " 27  DIA_11.00         755 non-null    float64       \n",
            " 28  DIA_16.00         755 non-null    float64       \n",
            " 29  DIA_22.00         755 non-null    float64       \n",
            " 30  DIA_31.00         755 non-null    float64       \n",
            " 31  DIA_44.00         755 non-null    float64       \n",
            " 32  DIA_62.00         755 non-null    float64       \n",
            " 33  DIA_88.00         755 non-null    float64       \n",
            " 34  DIA_125.0         755 non-null    float64       \n",
            " 35  DIA_180.0         755 non-null    float64       \n",
            " 36  DIA_250.0         755 non-null    float64       \n",
            " 37  DIA_360.0         755 non-null    float64       \n",
            " 38  DIA_500.0         755 non-null    float64       \n",
            " 39  DIA_720.0         755 non-null    float64       \n",
            " 40  DIA_1000          755 non-null    float64       \n",
            " 41  DIA_1440          755 non-null    float64       \n",
            " 42  MEAN              755 non-null    float64       \n",
            " 43  D(3,2)            755 non-null    float64       \n",
            " 44  MODE              755 non-null    float64       \n",
            " 45  10%<              755 non-null    float64       \n",
            " 46  25%<              755 non-null    float64       \n",
            " 47  50%<              755 non-null    float64       \n",
            " 48  75%<              755 non-null    float64       \n",
            " 49  90%<              755 non-null    float64       \n",
            " 50  SandsWt           755 non-null    float64       \n",
            " 51  FinesWt           755 non-null    float64       \n",
            " 52  SToFRatio         755 non-null    float64       \n",
            " 53  DateTime          752 non-null    datetime64[ns]\n",
            "dtypes: datetime64[ns](2), float64(47), object(5)\n",
            "memory usage: 327.4+ KB\n"
          ],
          "name": "stdout"
        }
      ]
    },
    {
      "cell_type": "markdown",
      "metadata": {
        "id": "mf3W6V-ffj_p"
      },
      "source": [
        "# Create Training and Validation Datasets"
      ]
    },
    {
      "cell_type": "markdown",
      "metadata": {
        "id": "-DcXT3nR6edv"
      },
      "source": [
        "Create dataframe with absolute weights for each "
      ]
    },
    {
      "cell_type": "code",
      "metadata": {
        "id": "Uy5EyA2-82qx"
      },
      "source": [
        "def get_cpa_absolute_results(input_dataframe):\r\n",
        "  \"\"\"\r\n",
        "  Extracts the cpa columns from the dataset and calculates the absolute percentage\r\n",
        "  of particles in each bin.\r\n",
        "  \"\"\"\r\n",
        "  df = input_dataframe\r\n",
        "  cpaDf = df[df.columns[df.columns.str.contains(pat=\"DIA_\")]].copy()\r\n",
        "  cpaCols = df.columns[df.columns.str.contains(pat=\"DIA_\")]\r\n",
        "  cpaDf.columns = [col.replace(\"DIA_\", \"\") for col in cpaCols]\r\n",
        "  dfCpaResults = pd.DataFrame(cpaDf.iloc[:,0])\r\n",
        "  #cpaBin22Value = cpaDf[\"22.00\"]\r\n",
        "  \r\n",
        "  for i in range(cpaDf.shape[1]  - 1):\r\n",
        "    diffSeries = cpaDf.iloc[:, i + 1 ].subtract(cpaDf.iloc[:, i])\r\n",
        "    #diffSeries = cpaDf.iloc[:, i + 1 ].subtract(cpaBin22Value)\r\n",
        "    diffSeries.name = cpaDf.columns[i+1]\r\n",
        "    dfCpaResults = pd.concat([dfCpaResults , diffSeries], axis = 1)\r\n",
        "  dfCpaResults = pd.concat([df[\"Sample Date\"],  dfCpaResults], axis = 1)\r\n",
        "  #dfCpaResults[\"22.00\"] = cpaBin22Value\r\n",
        "  return dfCpaResults"
      ],
      "execution_count": 114,
      "outputs": []
    },
    {
      "cell_type": "code",
      "metadata": {
        "id": "Gxf8JwZlsg_t"
      },
      "source": [
        "def preprocess_features(cpadata):\r\n",
        "  \"\"\"retrieve all the cpa columns that are to be used as features.\r\n",
        "\r\n",
        "  Args:\r\n",
        "      cpa_results_dataframe: DF with CPA results per sample.\r\n",
        "  Returns:\r\n",
        "    A DataFrame that contains the features to be used for the model, including\r\n",
        "    derived features.\r\n",
        "  \"\"\"\r\n",
        "  start_index = cpadata.columns.get_loc(\"31.00\")\r\n",
        "  return cpadata.iloc[:,start_index:].copy()"
      ],
      "execution_count": 115,
      "outputs": []
    },
    {
      "cell_type": "code",
      "metadata": {
        "id": "PkWfZGoZ2tHa"
      },
      "source": [
        "def preprocess_targets(cpadata):\r\n",
        "  \"\"\"Prepares target feature (i.e., labels) from cpa results data set.\r\n",
        "\r\n",
        "  Args:\r\n",
        "    cpadata: A Pandas DataFrame expected to contain data\r\n",
        "      from the California housing data set.\r\n",
        "  Returns:\r\n",
        "    A DataFrame that contains the target feature.\r\n",
        "  \"\"\"\r\n",
        "  output_targets = pd.DataFrame()\r\n",
        "  endIndex = cpadata.columns.get_loc(\"22.00\")\r\n",
        "  valuesLessEqual22  = cpadata.iloc[:, :endIndex + 1]\r\n",
        "  output_targets[\"LessThanEqualTo22\"] = valuesLessEqual22.sum(axis = 1)\r\n",
        "  return output_targets"
      ],
      "execution_count": 116,
      "outputs": []
    },
    {
      "cell_type": "code",
      "metadata": {
        "id": "EjvgckDwTu0l"
      },
      "source": [
        "def preprocess_targets_old(cpaData):\r\n",
        "  output_targets = pd.DataFrame()\r\n",
        "  #endIndex = cpaData.columns.get_loc(\"22.00\")\r\n",
        "  output_targets[\"LessThanEqualTo22\"] = cpaData[\"22.00\"]\r\n",
        "  return output_targets"
      ],
      "execution_count": 117,
      "outputs": []
    },
    {
      "cell_type": "code",
      "metadata": {
        "colab": {
          "base_uri": "https://localhost:8080/"
        },
        "id": "qY6yeItuR-sW",
        "outputId": "f3ccd5a2-4b8d-4adc-aac0-2bab5d1e314a"
      },
      "source": [
        "cpa_results = get_cpa_absolute_results(df)\r\n",
        "print(cpa_results[cpa_results[\"22.00\"].isna()])\r\n",
        "print(validation_targets.head())\r\n"
      ],
      "execution_count": 118,
      "outputs": [
        {
          "output_type": "stream",
          "text": [
            "         Sample Date  0.04  0.06  0.100  0.130  ...  360.0  500.0  720.0  1000  1440\n",
            "SampleId                                        ...                                 \n",
            "E191805          NaT   NaN   NaN    NaN    NaN  ...    NaN    NaN    NaN   NaN   NaN\n",
            "E191806          NaT   NaN   NaN    NaN    NaN  ...    NaN    NaN    NaN   NaN   NaN\n",
            "E191807          NaT   NaN   NaN    NaN    NaN  ...    NaN    NaN    NaN   NaN   NaN\n",
            "E196914          NaT   NaN   NaN    NaN    NaN  ...    NaN    NaN    NaN   NaN   NaN\n",
            "E196915          NaT   NaN   NaN    NaN    NaN  ...    NaN    NaN    NaN   NaN   NaN\n",
            "E196916          NaT   NaN   NaN    NaN    NaN  ...    NaN    NaN    NaN   NaN   NaN\n",
            "E196986          NaT   NaN   NaN    NaN    NaN  ...    NaN    NaN    NaN   NaN   NaN\n",
            "\n",
            "[7 rows x 32 columns]\n",
            "          LessThanEqualTo22\n",
            "SampleId                   \n",
            "E191601               22.28\n",
            "E191602               26.60\n",
            "E191603               24.23\n",
            "E191604               24.32\n",
            "E191605               16.82\n"
          ],
          "name": "stdout"
        }
      ]
    },
    {
      "cell_type": "markdown",
      "metadata": {
        "id": "mMwapMrSlRe_"
      },
      "source": [
        "## Split into test and training datasets"
      ]
    },
    {
      "cell_type": "code",
      "metadata": {
        "id": "Nzwiv_ENBLnb"
      },
      "source": [
        "gp = df.groupby(['Sample Date'])\r\n",
        "random.seed(1) \r\n",
        "dates  = list(gp.groups.keys())\r\n",
        "datesRandomized = random.sample(dates, len(dates)) # shuffles the dates and returns a new list"
      ],
      "execution_count": 119,
      "outputs": []
    },
    {
      "cell_type": "code",
      "metadata": {
        "id": "mcTUhI5-3Kww"
      },
      "source": [
        "import math\r\n",
        "trainingCount = math.floor(0.7 * len(datesRandomized))\r\n",
        "trainingDates = datesRandomized[:trainingCount + 1]\r\n",
        "validationDates = datesRandomized[trainingCount + 1:]"
      ],
      "execution_count": 120,
      "outputs": []
    },
    {
      "cell_type": "code",
      "metadata": {
        "colab": {
          "base_uri": "https://localhost:8080/"
        },
        "id": "hUoWhbHYMbes",
        "outputId": "76bcb344-f263-404b-e843-8a2916af9b23"
      },
      "source": [
        "print(df[df[\"Sample Date\"].dt.date.isin([i.date() for i in trainingDates])])\r\n",
        "print(df[df[\"Sample Date\"].dt.date.isin([i.date() for i in validationDates])])"
      ],
      "execution_count": 121,
      "outputs": [
        {
          "output_type": "stream",
          "text": [
            "         PlantId Train Sample Date  ...    FinesWt  SToFRatio            DateTime\n",
            "SampleId                            ...                                          \n",
            "E191601     5153   NaN  2016-12-05  ...  20.720596   3.681885 2016-12-05 21:30:00\n",
            "E191602     5353   NaN  2016-12-05  ...  23.026505   3.119152 2016-12-05 21:30:00\n",
            "E191603     5553   NaN  2016-12-05  ...  16.669632   3.415301 2016-12-05 21:30:00\n",
            "E191604     5653   NaN  2016-12-05  ...  11.150666   3.481894 2016-12-05 21:30:00\n",
            "E191605     5153   NaN  2016-12-06  ...  10.663107   4.833253 2016-12-06 09:30:00\n",
            "...          ...   ...         ...  ...        ...        ...                 ...\n",
            "E196976     5353   NaN  2017-03-29  ...   3.098035   3.105590 2017-03-29 11:30:00\n",
            "E196977     5453   NaN  2017-03-29  ...   3.803237   4.578755 2017-03-29 11:30:00\n",
            "E196978     5153   NaN  2017-03-29  ...   2.311570   7.668712 2017-03-29 21:30:00\n",
            "E196979     5353   NaN  2017-03-29  ...   1.432836   4.967710 2017-03-29 21:30:00\n",
            "E196980     5453   NaN  2017-03-29  ...   2.681908   7.680492 2017-03-29 21:30:00\n",
            "\n",
            "[527 rows x 54 columns]\n",
            "         PlantId Train Sample Date  ...    FinesWt  SToFRatio            DateTime\n",
            "SampleId                            ...                                          \n",
            "E191624     5253   NaN  2016-12-09  ...   9.337051   4.115226 2016-12-09 15:30:00\n",
            "E191625     5153    T1  2016-12-09  ...  13.311311   4.251701 2016-12-09 21:30:00\n",
            "E191626     5253    T2  2016-12-09  ...   7.722320   6.049607 2016-12-09 21:30:00\n",
            "E191627     5353    T3  2016-12-09  ...   8.342609   5.364807 2016-12-09 21:30:00\n",
            "E191628     5553    T5  2016-12-09  ...   6.580547   5.830904 2016-12-09 21:30:00\n",
            "...          ...   ...         ...  ...        ...        ...                 ...\n",
            "E196983     5353   NaN  2017-03-30  ...   3.203672   7.668712 2017-03-30 23:30:00\n",
            "E196984     5453   NaN  2017-03-30  ...   3.193409   8.733624 2017-03-30 23:30:00\n",
            "E196985     5553   NaN  2017-03-30  ...   2.371372   3.598417 2017-03-30 23:30:00\n",
            "E196987     5353   NaN  2017-03-31  ...   3.533602   4.780115 2017-03-31 07:30:00\n",
            "E196988     5553   NaN  2017-03-31  ...   1.526390   6.557377 2017-03-31 07:30:00\n",
            "\n",
            "[228 rows x 54 columns]\n"
          ],
          "name": "stdout"
        }
      ]
    },
    {
      "cell_type": "code",
      "metadata": {
        "colab": {
          "base_uri": "https://localhost:8080/"
        },
        "id": "qUHAkaOrIWHE",
        "outputId": "420dbc2f-22e2-48f6-e9fc-bfe592fcad32"
      },
      "source": [
        "cpa_results =  get_cpa_absolute_results(df)\r\n",
        "\r\n",
        "trainingSet = cpa_results[cpa_results[\"Sample Date\"].dt.date.isin([i.date() for i in trainingDates])].copy().drop(columns = ['Sample Date'])\r\n",
        "trainingSet.to_csv(\"TrainingSet.csv\")\r\n",
        "print(\"Training Row Count : \" +  str(trainingSet.shape[0]))\r\n",
        "validationSet = cpa_results[cpa_results[\"Sample Date\"].dt.date.isin([i.date() for i in validationDates])].copy().drop(columns = ['Sample Date'])\r\n",
        "validationSet.to_csv(\"ValidationSet.csv\")\r\n",
        "print(\"Validation Row Count : \" +  str(validationSet.shape[0]))"
      ],
      "execution_count": 122,
      "outputs": [
        {
          "output_type": "stream",
          "text": [
            "Training Row Count : 527\n",
            "Validation Row Count : 228\n"
          ],
          "name": "stdout"
        }
      ]
    },
    {
      "cell_type": "code",
      "metadata": {
        "id": "CqUOiVI2M7la"
      },
      "source": [
        "training_examples = preprocess_features(trainingSet)\r\n",
        "training_targets = preprocess_targets(trainingSet)\r\n",
        "\r\n",
        "validation_examples = preprocess_features(validationSet)\r\n",
        "validation_targets = preprocess_targets(validationSet)"
      ],
      "execution_count": 123,
      "outputs": []
    },
    {
      "cell_type": "code",
      "metadata": {
        "colab": {
          "base_uri": "https://localhost:8080/"
        },
        "id": "geF8tFJfBRDZ",
        "outputId": "da731012-61b0-452b-9cb5-70dc59ec32d3"
      },
      "source": [
        "# Double-check that we've done the right thing.\r\n",
        "print(\"Training examples summary:\")\r\n",
        "print(training_examples.describe())\r\n",
        "print(\"Validation examples summary:\")\r\n",
        "print(validation_examples.describe())\r\n",
        "\r\n",
        "print(\"Training targets summary:\")\r\n",
        "print(training_targets.describe())\r\n",
        "print(\"Validation targets summary:\")\r\n",
        "print(validation_targets.describe())\r\n",
        "print(validation_targets.info())\r\n",
        "\r\n",
        "print(training_targets.info())\r\n",
        "print(validation_targets.info())"
      ],
      "execution_count": 124,
      "outputs": [
        {
          "output_type": "stream",
          "text": [
            "Training examples summary:\n",
            "            31.00       44.00       62.00  ...       720.0        1000        1440\n",
            "count  527.000000  527.000000  527.000000  ...  527.000000  527.000000  527.000000\n",
            "mean     2.050626    2.641157    3.491708  ...    0.720512    0.059943    0.002808\n",
            "std      0.693090    0.830525    0.971304  ...    1.218201    0.196122    0.053038\n",
            "min      0.700000    1.080000    0.480000  ...    0.000000    0.000000    0.000000\n",
            "25%      1.670000    2.140000    2.845000  ...    0.000000    0.000000    0.000000\n",
            "50%      1.980000    2.560000    3.360000  ...    0.000000    0.000000    0.000000\n",
            "75%      2.330000    2.960000    3.995000  ...    1.275000    0.020000    0.000000\n",
            "max      5.870000    7.510000    7.890000  ...    7.650000    2.540000    1.200000\n",
            "\n",
            "[8 rows x 12 columns]\n",
            "Validation examples summary:\n",
            "            31.00       44.00       62.00  ...       720.0        1000        1440\n",
            "count  228.000000  228.000000  228.000000  ...  228.000000  228.000000  228.000000\n",
            "mean     2.217325    2.815526    3.657061  ...    0.622193    0.026096    0.000088\n",
            "std      1.159637    1.288873    1.319619  ...    0.903830    0.125737    0.001325\n",
            "min      0.730000    1.020000    1.480000  ...    0.000000    0.000000    0.000000\n",
            "25%      1.627500    2.080000    2.820000  ...    0.000000    0.000000    0.000000\n",
            "50%      1.885000    2.480000    3.300000  ...    0.000000    0.000000    0.000000\n",
            "75%      2.340000    3.035000    4.072500  ...    1.270000    0.010000    0.000000\n",
            "max      6.430000    7.260000    8.190000  ...    6.350000    1.760000    0.020000\n",
            "\n",
            "[8 rows x 12 columns]\n",
            "Training targets summary:\n",
            "       LessThanEqualTo22\n",
            "count         527.000000\n",
            "mean           18.675009\n",
            "std             7.254338\n",
            "min             5.630000\n",
            "25%            14.805000\n",
            "50%            18.100000\n",
            "75%            20.635000\n",
            "max            96.360000\n",
            "Validation targets summary:\n",
            "       LessThanEqualTo22\n",
            "count         228.000000\n",
            "mean           20.755789\n",
            "std            10.458657\n",
            "min             6.690000\n",
            "25%            14.907500\n",
            "50%            18.480000\n",
            "75%            22.355000\n",
            "max            77.520000\n",
            "<class 'pandas.core.frame.DataFrame'>\n",
            "Index: 228 entries, E191624 to E196988\n",
            "Data columns (total 1 columns):\n",
            " #   Column             Non-Null Count  Dtype  \n",
            "---  ------             --------------  -----  \n",
            " 0   LessThanEqualTo22  228 non-null    float64\n",
            "dtypes: float64(1)\n",
            "memory usage: 3.6+ KB\n",
            "None\n",
            "<class 'pandas.core.frame.DataFrame'>\n",
            "Index: 527 entries, E191601 to E196980\n",
            "Data columns (total 1 columns):\n",
            " #   Column             Non-Null Count  Dtype  \n",
            "---  ------             --------------  -----  \n",
            " 0   LessThanEqualTo22  527 non-null    float64\n",
            "dtypes: float64(1)\n",
            "memory usage: 8.2+ KB\n",
            "None\n",
            "<class 'pandas.core.frame.DataFrame'>\n",
            "Index: 228 entries, E191624 to E196988\n",
            "Data columns (total 1 columns):\n",
            " #   Column             Non-Null Count  Dtype  \n",
            "---  ------             --------------  -----  \n",
            " 0   LessThanEqualTo22  228 non-null    float64\n",
            "dtypes: float64(1)\n",
            "memory usage: 3.6+ KB\n",
            "None\n"
          ],
          "name": "stdout"
        }
      ]
    },
    {
      "cell_type": "markdown",
      "metadata": {
        "id": "eGEUJX4MAl1O"
      },
      "source": [
        "# Check Requirements for model building"
      ]
    },
    {
      "cell_type": "code",
      "metadata": {
        "colab": {
          "base_uri": "https://localhost:8080/"
        },
        "id": "cM09dh58Armg",
        "outputId": "3495917a-6476-46a1-956a-fb5255d11042"
      },
      "source": [
        "!pip install seaborn\r\n",
        "!pip install gast==0.2.2"
      ],
      "execution_count": 125,
      "outputs": [
        {
          "output_type": "stream",
          "text": [
            "Requirement already satisfied: seaborn in /usr/local/lib/python3.6/dist-packages (0.11.1)\n",
            "Requirement already satisfied: numpy>=1.15 in /usr/local/lib/python3.6/dist-packages (from seaborn) (1.19.5)\n",
            "Requirement already satisfied: pandas>=0.23 in /usr/local/lib/python3.6/dist-packages (from seaborn) (1.1.5)\n",
            "Requirement already satisfied: scipy>=1.0 in /usr/local/lib/python3.6/dist-packages (from seaborn) (1.4.1)\n",
            "Requirement already satisfied: matplotlib>=2.2 in /usr/local/lib/python3.6/dist-packages (from seaborn) (3.2.2)\n",
            "Requirement already satisfied: python-dateutil>=2.7.3 in /usr/local/lib/python3.6/dist-packages (from pandas>=0.23->seaborn) (2.8.1)\n",
            "Requirement already satisfied: pytz>=2017.2 in /usr/local/lib/python3.6/dist-packages (from pandas>=0.23->seaborn) (2018.9)\n",
            "Requirement already satisfied: pyparsing!=2.0.4,!=2.1.2,!=2.1.6,>=2.0.1 in /usr/local/lib/python3.6/dist-packages (from matplotlib>=2.2->seaborn) (2.4.7)\n",
            "Requirement already satisfied: kiwisolver>=1.0.1 in /usr/local/lib/python3.6/dist-packages (from matplotlib>=2.2->seaborn) (1.3.1)\n",
            "Requirement already satisfied: cycler>=0.10 in /usr/local/lib/python3.6/dist-packages (from matplotlib>=2.2->seaborn) (0.10.0)\n",
            "Requirement already satisfied: six>=1.5 in /usr/local/lib/python3.6/dist-packages (from python-dateutil>=2.7.3->pandas>=0.23->seaborn) (1.15.0)\n",
            "Requirement already satisfied: gast==0.2.2 in /usr/local/lib/python3.6/dist-packages (0.2.2)\n"
          ],
          "name": "stdout"
        }
      ]
    },
    {
      "cell_type": "code",
      "metadata": {
        "id": "2WwiNnJUAr5E"
      },
      "source": [
        "from __future__ import print_function\r\n",
        "\r\n",
        "import math\r\n",
        "\r\n",
        "from IPython import display\r\n",
        "from matplotlib import cm\r\n",
        "%matplotlib inline\r\n",
        "from matplotlib import gridspec\r\n",
        "from matplotlib import pyplot as plt\r\n",
        "import numpy as np\r\n",
        "import pandas as pd\r\n",
        "from sklearn import metrics\r\n",
        "%tensorflow_version 1.x\r\n",
        "import tensorflow as tf\r\n",
        "from tensorflow.python.data import Dataset\r\n",
        "\r\n",
        "tf.logging.set_verbosity(tf.logging.ERROR)"
      ],
      "execution_count": 126,
      "outputs": []
    },
    {
      "cell_type": "markdown",
      "metadata": {
        "id": "YU_F6uCM-XvT"
      },
      "source": [
        "#Neural Network"
      ]
    },
    {
      "cell_type": "markdown",
      "metadata": {
        "id": "DuoZM7mV9fKh"
      },
      "source": [
        "Building a Neural Network\r\n",
        "The NN is defined by the DNNRegressor class.\r\n",
        "\r\n",
        "Use hidden_units to define the structure of the NN. The hidden_units argument provides a list of ints, where each int corresponds to a hidden layer and indicates the number of nodes in it. For example, consider the following assignment:\r\n",
        "\r\n",
        "hidden_units=[3,10]\r\n",
        "\r\n",
        "The preceding assignment specifies a neural net with two hidden layers:\r\n",
        "\r\n",
        "The first hidden layer contains 3 nodes.\r\n",
        "The second hidden layer contains 10 nodes.\r\n",
        "If we wanted to add more layers, we'd add more ints to the list. For example, hidden_units=[10,20,30,40] would create four layers with ten, twenty, thirty, and forty units, respectively.\r\n",
        "\r\n",
        "By default, all hidden layers will use ReLu activation and will be fully connected."
      ]
    },
    {
      "cell_type": "code",
      "metadata": {
        "id": "uvYr6zao-set"
      },
      "source": [
        "def construct_feature_columns(input_features):\r\n",
        "  \"\"\"Construct the TensorFlow Feature Columns.\r\n",
        "\r\n",
        "  Args:\r\n",
        "    input_features: The names of the numerical input features to use.\r\n",
        "  Returns:\r\n",
        "    A set of feature columns\r\n",
        "  \"\"\" \r\n",
        "  return set([tf.feature_column.numeric_column(my_feature)\r\n",
        "              for my_feature in input_features])"
      ],
      "execution_count": 127,
      "outputs": []
    },
    {
      "cell_type": "code",
      "metadata": {
        "id": "-izPlHyB-uNa"
      },
      "source": [
        "def my_input_fn(features, targets, batch_size=1, shuffle=True, num_epochs=None):\r\n",
        "    \"\"\"Trains a neural net regression model.\r\n",
        "  \r\n",
        "    Args:\r\n",
        "      features: pandas DataFrame of features\r\n",
        "      targets: pandas DataFrame of targets\r\n",
        "      batch_size: Size of batches to be passed to the model\r\n",
        "      shuffle: True or False. Whether to shuffle the data.\r\n",
        "      num_epochs: Number of epochs for which data should be repeated. None = repeat indefinitely\r\n",
        "    Returns:\r\n",
        "      Tuple of (features, labels) for next data batch\r\n",
        "    \"\"\"\r\n",
        "    \r\n",
        "    # Convert pandas data into a dict of np arrays.\r\n",
        "    features = {key:np.array(value) for key,value in dict(features).items()}                                             \r\n",
        " \r\n",
        "    # Construct a dataset, and configure batching/repeating.\r\n",
        "    ds = Dataset.from_tensor_slices((features,targets)) # warning: 2GB limit\r\n",
        "    ds = ds.batch(batch_size).repeat(num_epochs)\r\n",
        "    \r\n",
        "    # Shuffle the data, if specified.\r\n",
        "    if shuffle:\r\n",
        "      ds = ds.shuffle(10000)\r\n",
        "    \r\n",
        "    # Return the next batch of data.\r\n",
        "    features, labels = ds.make_one_shot_iterator().get_next()\r\n",
        "    return features, labels"
      ],
      "execution_count": 128,
      "outputs": []
    },
    {
      "cell_type": "code",
      "metadata": {
        "id": "huuKhV1O-wXm"
      },
      "source": [
        "def train_nn_regression_model(\r\n",
        "    learning_rate,\r\n",
        "    steps,\r\n",
        "    batch_size,\r\n",
        "    hidden_units,\r\n",
        "    training_examples,\r\n",
        "    training_targets,\r\n",
        "    validation_examples,\r\n",
        "    validation_targets):\r\n",
        "  \"\"\"Trains a neural network regression model.\r\n",
        "  \r\n",
        "  In addition to training, this function also prints training progress information,\r\n",
        "  as well as a plot of the training and validation loss over time.\r\n",
        "  \r\n",
        "  Args:\r\n",
        "    learning_rate: A `float`, the learning rate.\r\n",
        "    steps: A non-zero `int`, the total number of training steps. A training step\r\n",
        "      consists of a forward and backward pass using a single batch.\r\n",
        "    batch_size: A non-zero `int`, the batch size.\r\n",
        "    hidden_units: A `list` of int values, specifying the number of neurons in each layer.\r\n",
        "    training_examples: A `DataFrame` containing one or more columns from\r\n",
        "      to use as input features for training.\r\n",
        "    training_targets: A `DataFrame` containing exactly one column from\r\n",
        "      to use as target for training.\r\n",
        "    validation_examples: A `DataFrame` containing one or more columns from\r\n",
        "      to use as input features for validation.\r\n",
        "    validation_targets: A `DataFrame` containing exactly one column from\r\n",
        "      to use as target for validation.\r\n",
        "      \r\n",
        "  Returns:\r\n",
        "    A `DNNRegressor` object trained on the training data.\r\n",
        "  \"\"\"\r\n",
        "\r\n",
        "  periods = 20\r\n",
        "  steps_per_period = steps / periods\r\n",
        "  \r\n",
        "  # Create a DNNRegressor object.\r\n",
        "  my_optimizer = tf.train.GradientDescentOptimizer(learning_rate=learning_rate)\r\n",
        "  my_optimizer = tf.contrib.estimator.clip_gradients_by_norm(my_optimizer, 5.0)\r\n",
        "  dnn_regressor = tf.estimator.DNNRegressor(\r\n",
        "      feature_columns=construct_feature_columns(training_examples),\r\n",
        "      hidden_units=hidden_units,\r\n",
        "      optimizer=my_optimizer,\r\n",
        "  )\r\n",
        "  \r\n",
        "  # Create input functions.\r\n",
        "  training_input_fn = lambda: my_input_fn(training_examples, \r\n",
        "                                          training_targets[\"LessThanEqualTo22\"], \r\n",
        "                                          batch_size=batch_size)\r\n",
        "  predict_training_input_fn = lambda: my_input_fn(training_examples, \r\n",
        "                                                  training_targets[\"LessThanEqualTo22\"], \r\n",
        "                                                  num_epochs=1, \r\n",
        "                                                  shuffle=False)\r\n",
        "  predict_validation_input_fn = lambda: my_input_fn(validation_examples, \r\n",
        "                                                    validation_targets[\"LessThanEqualTo22\"], \r\n",
        "                                                    num_epochs=1, \r\n",
        "                                                    shuffle=False)\r\n",
        "\r\n",
        "  # Train the model, but do so inside a loop so that we can periodically assess\r\n",
        "  # loss metrics.\r\n",
        "  print(\"Training model...\")\r\n",
        "  print(\"RMSE (on training data):\")\r\n",
        "  training_rmse = []\r\n",
        "  validation_rmse = []\r\n",
        "  for period in range (0, periods):\r\n",
        "    # Train the model, starting from the prior state.\r\n",
        "    dnn_regressor.train(\r\n",
        "        input_fn=training_input_fn,\r\n",
        "        steps=steps_per_period\r\n",
        "    )\r\n",
        "    # Take a break and compute predictions.\r\n",
        "    training_predictions = dnn_regressor.predict(input_fn=predict_training_input_fn)\r\n",
        "    training_predictions = np.array([item['predictions'][0] for item in training_predictions])\r\n",
        "    \r\n",
        "    validation_predictions = dnn_regressor.predict(input_fn=predict_validation_input_fn)\r\n",
        "    validation_predictions = np.array([item['predictions'][0] for item in validation_predictions])\r\n",
        "    \r\n",
        "    # Compute training and validation loss.\r\n",
        "    training_root_mean_squared_error = math.sqrt(\r\n",
        "        metrics.mean_squared_error(training_predictions, training_targets))\r\n",
        "    validation_root_mean_squared_error = math.sqrt(\r\n",
        "        metrics.mean_squared_error(validation_predictions, validation_targets))\r\n",
        "    # Occasionally print the current loss.\r\n",
        "    print(\"  period %02d : %0.2f\" % (period, training_root_mean_squared_error))\r\n",
        "    # Add the loss metrics from this period to our list.\r\n",
        "    training_rmse.append(training_root_mean_squared_error)\r\n",
        "    validation_rmse.append(validation_root_mean_squared_error)\r\n",
        "  \r\n",
        "  print(\"Model training finished.\")\r\n",
        "  \r\n",
        "  # Output a graph of loss metrics over periods.\r\n",
        "  plt.ylabel(\"RMSE\")\r\n",
        "  plt.xlabel(\"Periods\")\r\n",
        "  plt.title(\"Root Mean Squared Error vs. Periods\")\r\n",
        "  \r\n",
        "  plt.plot(training_rmse, label=\"training\")\r\n",
        "  plt.plot(validation_rmse, label=\"validation\")\r\n",
        "  plt.legend()\r\n",
        "\r\n",
        "  print(\"Final RMSE (on training data):   %0.2f\" % training_root_mean_squared_error)\r\n",
        "  print(\"Final RMSE (on validation data): %0.2f\" % validation_root_mean_squared_error)\r\n",
        "\r\n",
        "  return dnn_regressor"
      ],
      "execution_count": 129,
      "outputs": []
    },
    {
      "cell_type": "code",
      "metadata": {
        "colab": {
          "base_uri": "https://localhost:8080/",
          "height": 235
        },
        "id": "pivGF-O5OBwe",
        "outputId": "b220298e-c295-4eed-981d-f6ba6961f0fe"
      },
      "source": [
        "#validation_predictions.head()\r\n",
        "validation_targets.head()"
      ],
      "execution_count": 130,
      "outputs": [
        {
          "output_type": "execute_result",
          "data": {
            "text/html": [
              "<div>\n",
              "<style scoped>\n",
              "    .dataframe tbody tr th:only-of-type {\n",
              "        vertical-align: middle;\n",
              "    }\n",
              "\n",
              "    .dataframe tbody tr th {\n",
              "        vertical-align: top;\n",
              "    }\n",
              "\n",
              "    .dataframe thead th {\n",
              "        text-align: right;\n",
              "    }\n",
              "</style>\n",
              "<table border=\"1\" class=\"dataframe\">\n",
              "  <thead>\n",
              "    <tr style=\"text-align: right;\">\n",
              "      <th></th>\n",
              "      <th>LessThanEqualTo22</th>\n",
              "    </tr>\n",
              "    <tr>\n",
              "      <th>SampleId</th>\n",
              "      <th></th>\n",
              "    </tr>\n",
              "  </thead>\n",
              "  <tbody>\n",
              "    <tr>\n",
              "      <th>E191624</th>\n",
              "      <td>19.43</td>\n",
              "    </tr>\n",
              "    <tr>\n",
              "      <th>E191625</th>\n",
              "      <td>19.31</td>\n",
              "    </tr>\n",
              "    <tr>\n",
              "      <th>E191626</th>\n",
              "      <td>12.92</td>\n",
              "    </tr>\n",
              "    <tr>\n",
              "      <th>E191627</th>\n",
              "      <td>15.10</td>\n",
              "    </tr>\n",
              "    <tr>\n",
              "      <th>E191628</th>\n",
              "      <td>13.74</td>\n",
              "    </tr>\n",
              "  </tbody>\n",
              "</table>\n",
              "</div>"
            ],
            "text/plain": [
              "          LessThanEqualTo22\n",
              "SampleId                   \n",
              "E191624               19.43\n",
              "E191625               19.31\n",
              "E191626               12.92\n",
              "E191627               15.10\n",
              "E191628               13.74"
            ]
          },
          "metadata": {
            "tags": []
          },
          "execution_count": 130
        }
      ]
    },
    {
      "cell_type": "markdown",
      "metadata": {
        "id": "hmSNmGmj-1hd"
      },
      "source": [
        "## Task 1: Train a NN Model\r\n",
        "**Adjust hyperparameters**\r\n",
        "\r\n",
        "Run the following block to train a NN model.  \r\n",
        "\r\n",
        "Your task here is to modify various learning settings to improve accuracy on validation data.\r\n",
        "\r\n",
        "Overfitting is a real potential hazard for NNs.  You can look at the gap between loss on training data and loss on validation data to help judge if your model is starting to overfit. If the gap starts to grow, that is usually a sure sign of overfitting.\r\n",
        "\r\n",
        "Because of the number of different possible settings, it's strongly recommended that you take notes on each trial to help guide your development process.\r\n",
        "\r\n",
        "Also, when you get a good setting, try running it multiple times and see how repeatable your result is. NN weights are typically initialized to small random values, so you should see differences from run to run.\r\n"
      ]
    },
    {
      "cell_type": "code",
      "metadata": {
        "colab": {
          "base_uri": "https://localhost:8080/",
          "height": 720
        },
        "id": "xXgOt5ra_HE_",
        "outputId": "98e05077-678c-460e-b7c8-8688c53ea824"
      },
      "source": [
        "dnn_regressor = train_nn_regression_model(\r\n",
        "    learning_rate=0.01,\r\n",
        "    steps=500,\r\n",
        "    batch_size=10,\r\n",
        "    hidden_units=[5],\r\n",
        "    training_examples=training_examples,\r\n",
        "    training_targets=training_targets,\r\n",
        "    validation_examples=validation_examples,\r\n",
        "    validation_targets=validation_targets)"
      ],
      "execution_count": 131,
      "outputs": [
        {
          "output_type": "stream",
          "text": [
            "Training model...\n",
            "RMSE (on training data):\n",
            "  period 00 : 10.51\n",
            "  period 01 : 10.06\n",
            "  period 02 : 9.85\n",
            "  period 03 : 9.53\n",
            "  period 04 : 9.43\n",
            "  period 05 : 9.98\n",
            "  period 06 : 9.01\n",
            "  period 07 : 8.79\n",
            "  period 08 : 9.11\n",
            "  period 09 : 9.97\n",
            "  period 10 : 10.97\n",
            "  period 11 : 10.26\n",
            "  period 12 : 8.22\n",
            "  period 13 : 8.10\n",
            "  period 14 : 7.80\n",
            "  period 15 : 9.17\n",
            "  period 16 : 8.78\n",
            "  period 17 : 7.47\n",
            "  period 18 : 7.32\n",
            "  period 19 : 7.23\n",
            "Model training finished.\n",
            "Final RMSE (on training data):   7.23\n",
            "Final RMSE (on validation data): 9.43\n"
          ],
          "name": "stdout"
        },
        {
          "output_type": "display_data",
          "data": {
            "image/png": "[encoded data removed]",
            "text/plain": [
              "<Figure size 432x288 with 1 Axes>"
            ]
          },
          "metadata": {
            "tags": [],
            "needs_background": "light"
          }
        }
      ]
    },
    {
      "cell_type": "code",
      "metadata": {
        "colab": {
          "base_uri": "https://localhost:8080/",
          "height": 312
        },
        "id": "uUcjDsBscsnS",
        "outputId": "dd4e4d60-7271-45a9-8cdc-fd929aac6a0b"
      },
      "source": [
        "predict_validation_input_fn = lambda: my_input_fn(validation_examples, \r\n",
        "                                                    validation_targets[\"LessThanEqualTo22\"], \r\n",
        "                                                    num_epochs=1, \r\n",
        "                                                    shuffle=False)\r\n",
        "\r\n",
        "validation_predictions = dnn_regressor.predict(input_fn=predict_validation_input_fn)\r\n",
        "validation_predictions = np.array([item['predictions'][0] for item in validation_predictions])\r\n",
        "\r\n",
        "plt.scatter(validation_predictions, validation_targets,s=5)\r\n",
        "plt.xlabel(\"Predicted\")\r\n",
        "plt.ylabel(\"Actual\")\r\n",
        "plt.title(\"Actual vs Predict values for Bin 22\")\r\n",
        "   \r\n",
        "#slope, intercept, r_value, p_value, std_err = linregress(validation_predictions, validation_targets.to_numpy())\r\n",
        "#print(\"Validation predictions r_value**2 : %0.2f\" % r_value**2  )\r\n",
        "\r\n",
        "plt.plot()"
      ],
      "execution_count": 132,
      "outputs": [
        {
          "output_type": "execute_result",
          "data": {
            "text/plain": [
              "[]"
            ]
          },
          "metadata": {
            "tags": []
          },
          "execution_count": 132
        },
        {
          "output_type": "display_data",
          "data": {
            "image/png": "[encoded data removed]",
            "text/plain": [
              "<Figure size 432x288 with 1 Axes>"
            ]
          },
          "metadata": {
            "tags": [],
            "needs_background": "light"
          }
        }
      ]
    },
    {
      "cell_type": "code",
      "metadata": {
        "colab": {
          "base_uri": "https://localhost:8080/",
          "height": 562
        },
        "id": "G4ObB-ASz_Tt",
        "outputId": "9676916b-6b29-45e1-cd47-dc576d4c0432"
      },
      "source": [
        "validation_targets.plot(kind = 'hist', bins = 10, title=\"Validation targets\")\r\n",
        "training_targets.plot(kind = 'hist', bins = 10, title=\"Training targets\")"
      ],
      "execution_count": 133,
      "outputs": [
        {
          "output_type": "execute_result",
          "data": {
            "text/plain": [
              "<matplotlib.axes._subplots.AxesSubplot at 0x7f1fcea81358>"
            ]
          },
          "metadata": {
            "tags": []
          },
          "execution_count": 133
        },
        {
          "output_type": "display_data",
          "data": {
            "image/png": "[encoded data removed]",
            "text/plain": [
              "<Figure size 432x288 with 1 Axes>"
            ]
          },
          "metadata": {
            "tags": [],
            "needs_background": "light"
          }
        },
        {
          "output_type": "display_data",
          "data": {
            "image/png": "[encoded data removed]",
            "text/plain": [
              "<Figure size 432x288 with 1 Axes>"
            ]
          },
          "metadata": {
            "tags": [],
            "needs_background": "light"
          }
        }
      ]
    }
  ]
}